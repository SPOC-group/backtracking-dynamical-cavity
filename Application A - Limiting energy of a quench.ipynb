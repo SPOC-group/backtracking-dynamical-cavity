{
 "cells": [
  {
   "cell_type": "markdown",
   "id": "ce4ffe4a",
   "metadata": {},
   "source": [
    "# Application A: Limiting Energy of a Quench"
   ]
  },
  {
   "cell_type": "markdown",
   "id": "3b8c6de1",
   "metadata": {},
   "source": [
    "## BDCM"
   ]
  },
  {
   "cell_type": "markdown",
   "id": "13433abf",
   "metadata": {},
   "source": [
    "This example shows how to compute the limiting energy of a quench on a ransom regular graph with degree $d=4$.\n",
    "We compute the fixed points of the BDCM with $c=1$ and the correct path length.\n",
    "The rule code for the antiferromagnet with even tie-breaking is $11+00$.\n",
    "From this fixed point we derive the enrgy and entropy."
   ]
  },
  {
   "cell_type": "code",
   "execution_count": 1,
   "id": "fb8f6d20",
   "metadata": {},
   "outputs": [],
   "source": [
    "import numpy as np\n",
    "import pandas as pd\n",
    "from src.experiments import load_pickle\n",
    "from src.bdcm.fixed_point_iteration import run_bdcm\n",
    "from src.bdcm.initialization import init_random_Gauss\n",
    "from src.empirics.simulation import simulate_balanced_init\n",
    "from src.config import RESULT_DIR\n",
    "import numpy as np\n",
    "from src.experiments import flatten\n",
    "from pathlib import Path\n",
    "import matplotlib.pyplot as plt\n"
   ]
  },
  {
   "cell_type": "markdown",
   "id": "dfffcae0",
   "metadata": {},
   "source": [
    "The following function runs the BDCM until convergence."
   ]
  },
  {
   "cell_type": "code",
   "execution_count": 2,
   "id": "0d5c5448",
   "metadata": {},
   "outputs": [
    {
     "name": "stderr",
     "output_type": "stream",
     "text": [
      "[Fixed Point It.] acc=0.0000000009898231 |: : 875826it [00:00, 1083302.37it/s]                                                             "
     ]
    },
    {
     "name": "stdout",
     "output_type": "stream",
     "text": [
      "Stopping early because of convergence at iteration 1324 with distance 0.0000000009898231.\n"
     ]
    },
    {
     "name": "stderr",
     "output_type": "stream",
     "text": [
      "\n"
     ]
    }
   ],
   "source": [
    "rule='11+00'\n",
    "its = 5000\n",
    "alpha = 0.98 # parameter for dampening\n",
    "d = len(rule)-1 # d is the number of neighbours\n",
    "\n",
    "res_1 = run_bdcm(its=its, \n",
    "                     alpha=alpha, \n",
    "                     rule=rule, \n",
    "                     c=1,\n",
    "                     d=d,\n",
    "                     p=1,\n",
    "                     init_func=init_random_Gauss,\n",
    "                     epsilon=10e-10)"
   ]
  },
  {
   "cell_type": "markdown",
   "id": "92a9d96a",
   "metadata": {},
   "source": [
    "We can get the interesting observables from the result dictionary. "
   ]
  },
  {
   "cell_type": "code",
   "execution_count": 3,
   "id": "092d5b05",
   "metadata": {},
   "outputs": [
    {
     "data": {
      "text/plain": [
       "(0.8679342606191441, -0.47587665864101625)"
      ]
     },
     "execution_count": 3,
     "metadata": {},
     "output_type": "execute_result"
    }
   ],
   "source": [
    "res_1['entropy']/np.log(2), res_1['energy_attr']"
   ]
  },
  {
   "cell_type": "markdown",
   "id": "7f6fa81d",
   "metadata": {},
   "source": [
    "## DCM\n",
    "\n",
    "THe result for the dynamical cavity method is simply obtained by setting the cycle c=0, which will not add a boundary condition for the cycle."
   ]
  },
  {
   "cell_type": "code",
   "execution_count": 4,
   "id": "6e14ef16",
   "metadata": {},
   "outputs": [
    {
     "name": "stderr",
     "output_type": "stream",
     "text": [
      "[Fixed Point It.] acc=0.0000000009940684 |: : 890445it [00:00, 1150841.11it/s]                                                             "
     ]
    },
    {
     "name": "stdout",
     "output_type": "stream",
     "text": [
      "Stopping early because of convergence at iteration 1335 with distance 0.0000000009940684.\n"
     ]
    },
    {
     "name": "stderr",
     "output_type": "stream",
     "text": [
      "\n"
     ]
    }
   ],
   "source": [
    "res_2 = run_bdcm(its=its, \n",
    "                     alpha=alpha, \n",
    "                     rule=rule, \n",
    "                     c=0,\n",
    "                     d=d,\n",
    "                     p=2, # since we want to do a fair comparison, we set p one higher here than in the BDCM\n",
    "                     init_func=init_random_Gauss,\n",
    "                     epsilon=10e-10)"
   ]
  },
  {
   "cell_type": "markdown",
   "id": "00d92f53",
   "metadata": {},
   "source": [
    "The relevant observable for the energy is now the energy of the final configuration in the path."
   ]
  },
  {
   "cell_type": "code",
   "execution_count": 5,
   "id": "34840df6",
   "metadata": {},
   "outputs": [
    {
     "data": {
      "text/plain": [
       "(1.0000000000000002, -0.2812499999894403)"
      ]
     },
     "execution_count": 5,
     "metadata": {},
     "output_type": "execute_result"
    }
   ],
   "source": [
    "res_2['entropy']/np.log(2), res_2['energy_pathend']"
   ]
  },
  {
   "cell_type": "markdown",
   "id": "001a921c",
   "metadata": {},
   "source": [
    "## Empirics\n",
    "\n",
    "We finally compare to the empirically observed result, by running the simulations on a concrete graph."
   ]
  },
  {
   "cell_type": "code",
   "execution_count": 6,
   "id": "68912a35",
   "metadata": {},
   "outputs": [
    {
     "name": "stderr",
     "output_type": "stream",
     "text": [
      "100%|█████████████████████████████████████████████████████████████████████████████████████████████████| 1000/1000 [00:08<00:00, 118.34it/s]\n"
     ]
    }
   ],
   "source": [
    "r = '11+00'\n",
    "samples = 1000\n",
    "d = len(r)-1\n",
    "\n",
    "simulate_balanced_init(r,path=str(RESULT_DIR / f'application_A' / 'empirics'), \n",
    "                           n=1000, samples=samples, \n",
    "                           record_energy=True,record_density=True)"
   ]
  },
  {
   "cell_type": "markdown",
   "id": "de5f82df",
   "metadata": {},
   "source": [
    "The energy trajectories decay fast, but for $p=1$ the energy predicted is still quite far off."
   ]
  },
  {
   "cell_type": "code",
   "execution_count": 10,
   "id": "f8f0438f",
   "metadata": {},
   "outputs": [
    {
     "data": {
      "image/png": "[encoded data removed]",
      "text/plain": [
       "<Figure size 640x480 with 1 Axes>"
      ]
     },
     "metadata": {},
     "output_type": "display_data"
    }
   ],
   "source": [
    "path = f'results/application_A/empirics'\n",
    "results = flatten([load_pickle(f) for f in  Path(path).glob(f'*.pkl')])\n",
    "\n",
    "df = pd.DataFrame(results)\n",
    "for dens in df.energy_history:\n",
    "    dens = np.array(dens)\n",
    "    plt.plot(dens,alpha=0.05,c='blue')\n",
    "plt.title(f'd={d}')\n",
    "plt.xlabel('t')\n",
    "plt.ylabel('energy')\n",
    "plt.axhline(res_1[\"energy_attr\"],label=f'bdcm; $p=1$; {res_1[\"energy_attr\"]:.4f}',linestyle='dashed',c='green')\n",
    "plt.axhline(res_2[\"energy_pathend\"],label=f'dcm; $p=1$; {res_2[\"energy_pathend\"]:.4f}',linestyle='dashed',c='orange')\n",
    "emp = df.energy_history.apply(lambda x: x[-1]).mean()\n",
    "plt.axhline(emp,c='red',label=f'empirics {emp:.4f}')\n",
    "plt.legend()\n",
    "plt.show()"
   ]
  },
  {
   "cell_type": "code",
   "execution_count": null,
   "id": "75343b6e",
   "metadata": {},
   "outputs": [],
   "source": []
  }
 ],
 "metadata": {
  "kernelspec": {
   "display_name": "Python 3 (ipykernel)",
   "language": "python",
   "name": "python3"
  },
  "language_info": {
   "codemirror_mode": {
    "name": "ipython",
    "version": 3
   },
   "file_extension": ".py",
   "mimetype": "text/x-python",
   "name": "python",
   "nbconvert_exporter": "python",
   "pygments_lexer": "ipython3",
   "version": "3.9.12"
  }
 },
 "nbformat": 4,
 "nbformat_minor": 5
}
